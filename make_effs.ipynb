{
 "cells": [
  {
   "cell_type": "code",
   "execution_count": 1,
   "metadata": {},
   "outputs": [
    {
     "data": {
      "text/plain": [
       "0.14317579923072071"
      ]
     },
     "execution_count": 1,
     "metadata": {},
     "output_type": "execute_result"
    }
   ],
   "source": [
    "import numpy as np\n",
    "import pandas as pd\n",
    "\n",
    "eta_weights = np.loadtxt('eta_weights.txt')\n",
    "eta_weights[1]"
   ]
  },
  {
   "cell_type": "code",
   "execution_count": 2,
   "metadata": {},
   "outputs": [],
   "source": [
    "etBins       = [3, 7, 10, 15]\n",
    "etaBins      = [0, 0.8, 1.37, 1.54, 2.37, 2.47]\n",
    "eta =[0.0, 0.6, 0.8, 1.15, 1.37, 1.52, 1.81, 2.01, 2.37]\n",
    "# eta 0.0, 0.6, 0.8, 1.15, 1.37, 1.52, 1.81, 2.01, 2.37\n",
    "\n",
    "tight20170713 = np.array(\n",
    "\n",
    "    [[0.484,0.492,0.340,0.316,0.272,0.400,0.384,0.234,0.139], # 4 GeV \n",
    "     [0.511,0.579,0.497,0.472,0.391,0.385,0.379,0.304,0.223], # 7 GeV\n",
    "     [0.564,0.631,0.509,0.492,0.416,0.517,0.510,0.384,0.262], # 10 GeV\n",
    "     [0.650,0.642,0.630,0.605,0.584,0.607,0.570,0.524,0.431]] # 15 GeV\n",
    "\n",
    "    )*100.0 \n",
    "\n",
    "medium20170713 = np.array( \n",
    "\n",
    "    [[0.677,0.644,0.532,0.497,0.273,0.539,0.522,0.436,0.324], # 4 GeV \n",
    "     [0.690,0.707,0.685,0.649,0.287,0.571,0.553,0.467,0.387], # 7 GeV\n",
    "     [0.731,0.758,0.666,0.632,0.419,0.641,0.633,0.567,0.479], # 10 GeV\n",
    "     [0.765,0.754,0.722,0.621,0.637,0.714,0.654,0.642,0.527]] # 15 GeV\n",
    "\n",
    "     )*100.0\n",
    "\n",
    "loose20170713 = np.array(\n",
    "    \n",
    "    [[0.817,0.824,0.791,0.765,0.556,0.718,0.699,0.690,0.619], # 4 GeV \n",
    "     [0.819,0.786,0.773,0.747,0.440,0.748,0.729,0.703,0.631], # 7 GeV\n",
    "     [0.823,0.850,0.767,0.741,0.512,0.767,0.748,0.736,0.667], # 10 GeV\n",
    "     [0.846,0.852,0.779,0.768,0.702,0.784,0.775,0.743,0.642]] # 15 GeV\n",
    "\n",
    "    )*100.0\n",
    "\n",
    "veryloose20170713 = np.array(\n",
    "    \n",
    "    [[0.916,0.893,0.900,0.894,0.789,0.885,0.876,0.839,0.731], # 4 GeV \n",
    "     [0.923,0.920,0.922,0.916,0.638,0.876,0.867,0.870,0.784], # 7 GeV\n",
    "     [0.908,0.935,0.882,0.875,0.696,0.866,0.857,0.809,0.726], # 10 GeV\n",
    "     [0.948,0.920,0.922,0.885,0.789,0.880,0.885,0.879,0.796]] # 15 GeV\n",
    "\n",
    "    )*100.0\n",
    "\n"
   ]
  },
  {
   "cell_type": "code",
   "execution_count": 22,
   "metadata": {},
   "outputs": [],
   "source": [
    "def mergeEffTable(eff = 'tight',geo_mean = False):\n",
    "    if eff == 'tight':\n",
    "        val = tight20170713\n",
    "    elif eff == 'medium':\n",
    "        val = medium20170713\n",
    "    elif eff == 'loose':\n",
    "        val = loose20170713\n",
    "    elif eff == 'veryloose':\n",
    "        val = veryloose20170713\n",
    "  \n",
    "    shorterEtaEffTable = np.zeros(shape=(len(etBins),len(etaBins)-1))\n",
    "    if geo_mean == True:\n",
    "        print 'Doing Weight Geometric Mean...'\n",
    "        for eta_index in range(len(etaBins)-1):\n",
    "            for et_index in range(len(etBins)):\n",
    "                if eta_index == 0:\n",
    "                # merge 0 -> .6 -> .8\n",
    "                    shorterEtaEffTable[et_index, eta_index] = (val[et_index, 0]**eta_weights[0] * val[et_index, 1]**eta_weights[1])**(1/(eta_weights[0]+eta_weights[1]))\n",
    "                if eta_index == 1:\n",
    "                # merge 1.15 -> 1.37 -> 1.52\n",
    "                    shorterEtaEffTable[et_index, eta_index] = (val[et_index, 2]**eta_weights[2] * val[et_index, 3]**eta_weights[3]) ** (1/(eta_weights[2]+eta_weights[3]))\n",
    "                if eta_index == 2:\n",
    "                # 1.37 -> 1.52\n",
    "                    shorterEtaEffTable[et_index, eta_index] = val[et_index, 4]\n",
    "                if eta_index == 3:\n",
    "                # merge 1.52 -> 1.8 -> 2.47\n",
    "                    shorterEtaEffTable[et_index,eta_index] = (val[et_index, 5]**eta_weights[5] * val[et_index, 6]**eta_weights[6] * val[et_index, 7]**eta_weights[7]) ** (1/(eta_weights[5]+eta_weights[6]+eta_weights[7]))\n",
    "                else:\n",
    "                    shorterEtaEffTable[et_index,eta_index] = val[et_index,8]\n",
    "        return shorterEtaEffTable\n",
    "    \n",
    "    else:                \n",
    "        print 'Doing Weight Aritimetic Mean...'\n",
    "        for eta_index in range(len(etaBins)-1):\n",
    "            for et_index in range(len(etBins)):\n",
    "                if eta_index == 0:\n",
    "                # merge 0 -> .6 -> .8\n",
    "                    shorterEtaEffTable[et_index, eta_index] = (val[et_index, 0]*eta_weights[0] + val[et_index, 1]*eta_weights[1]) / (eta_weights[0]+eta_weights[1])\n",
    "                if eta_index == 1:\n",
    "                # merge 1.15 -> 1.37 -> 1.52\n",
    "                    shorterEtaEffTable[et_index, eta_index] = (val[et_index, 2]*eta_weights[2] + val[et_index, 3]*eta_weights[3]) / (eta_weights[2]+eta_weights[3])\n",
    "                if eta_index == 2:\n",
    "                # 1.37 -> 1.52\n",
    "                    shorterEtaEffTable[et_index, eta_index] = val[et_index, 4]\n",
    "                if eta_index == 3:\n",
    "                # merge 1.52 -> 1.8 -> 2.47\n",
    "                    shorterEtaEffTable[et_index,eta_index] = (val[et_index, 5]*eta_weights[5] + val[et_index, 6]*eta_weights[6] + val[et_index, 7]*eta_weights[7]) / (eta_weights[5]+eta_weights[6]+eta_weights[7])\n",
    "                else:\n",
    "                    shorterEtaEffTable[et_index,eta_index] = val[et_index,8]\n",
    "    return shorterEtaEffTable"
   ]
  },
  {
   "cell_type": "code",
   "execution_count": null,
   "metadata": {},
   "outputs": [],
   "source": [
    "# eta 0.0, 0.6, 0.8, 1.15, 1.37, 1.52, 1.81, 2.01, 2.37"
   ]
  },
  {
   "cell_type": "code",
   "execution_count": 23,
   "metadata": {},
   "outputs": [
    {
     "name": "stdout",
     "output_type": "stream",
     "text": [
      "Doing Weight Aritimetic Mean...\n",
      "[[ 13.9         13.9         13.9         33.09518369  13.9       ]\n",
      " [ 22.3         22.3         22.3         35.17805078  22.3       ]\n",
      " [ 26.2         26.2         26.2         46.32003208  26.2       ]\n",
      " [ 43.1         43.1         43.1         56.48909191  43.1       ]]\n"
     ]
    }
   ],
   "source": [
    "print(mergeEffTable())"
   ]
  },
  {
   "cell_type": "code",
   "execution_count": 24,
   "metadata": {},
   "outputs": [
    {
     "name": "stdout",
     "output_type": "stream",
     "text": [
      "Doing Weight Geometric Mean...\n",
      "[[ 13.9         13.9         13.9         32.09525199  13.9       ]\n",
      " [ 22.3         22.3         22.3         34.96160338  22.3       ]\n",
      " [ 26.2         26.2         26.2         45.86421483  26.2       ]\n",
      " [ 43.1         43.1         43.1         56.37582081  43.1       ]]\n"
     ]
    }
   ],
   "source": [
    "print(mergeEffTable(geo_mean=True))"
   ]
  },
  {
   "cell_type": "code",
   "execution_count": 27,
   "metadata": {},
   "outputs": [],
   "source": [
    "def transformToEffCalo (eff = 'tight',geo_mean = False):   \n",
    "\n",
    "    if eff == 'tight':\n",
    "        val = mergeEffTable(eff,geo_mean)\n",
    "        \n",
    "    elif eff == 'medium':\n",
    "        val = mergeEffTable(eff,geo_mean)\n",
    "        \n",
    "    elif eff == 'loose':\n",
    "        val = mergeEffTable(eff,geo_mean)\n",
    "        \n",
    "    elif eff == 'veryloose':\n",
    "        val = mergeEffTable(eff,geo_mean)\n",
    "\n",
    "    return val + np.minimum((np.ones_like(val)*100 - val)*.5,.5*val)"
   ]
  },
  {
   "cell_type": "code",
   "execution_count": 29,
   "metadata": {},
   "outputs": [
    {
     "name": "stdout",
     "output_type": "stream",
     "text": [
      "Doing Weight Geometric Mean...\n",
      "[[ 20.85        20.85        20.85        48.14287798  20.85      ]\n",
      " [ 33.45        33.45        33.45        52.44240507  33.45      ]\n",
      " [ 39.3         39.3         39.3         68.79632225  39.3       ]\n",
      " [ 64.65        64.65        64.65        78.1879104   64.65      ]]\n"
     ]
    }
   ],
   "source": [
    "print(transformToEffCalo(geo_mean=True))"
   ]
  },
  {
   "cell_type": "code",
   "execution_count": 30,
   "metadata": {},
   "outputs": [
    {
     "name": "stdout",
     "output_type": "stream",
     "text": [
      "Doing Weight Aritimetic Mean...\n",
      "Doing Weight Aritimetic Mean...\n",
      "Doing Weight Aritimetic Mean...\n",
      "Doing Weight Aritimetic Mean...\n",
      "\\begin{tabular}{lrrrrr}\n",
      "\\toprule\n",
      "{} &      0 &      1 &      2 &          3 &      4 \\\\\n",
      "\\midrule\n",
      "0 &  20.85 &  20.85 &  20.85 &  49.642776 &  20.85 \\\\\n",
      "1 &  33.45 &  33.45 &  33.45 &  52.767076 &  33.45 \\\\\n",
      "2 &  39.30 &  39.30 &  39.30 &  69.480048 &  39.30 \\\\\n",
      "3 &  64.65 &  64.65 &  64.65 &  78.244546 &  64.65 \\\\\n",
      "\\bottomrule\n",
      "\\end{tabular}\n",
      "\\begin{tabular}{lrrrrr}\n",
      "\\toprule\n",
      "{} &      0 &      1 &      2 &          3 &      4 \\\\\n",
      "\\midrule\n",
      "0 &  48.60 &  48.60 &  48.60 &  74.146064 &  48.60 \\\\\n",
      "1 &  58.05 &  58.05 &  58.05 &  76.282740 &  58.05 \\\\\n",
      "2 &  71.85 &  71.85 &  71.85 &  80.499630 &  71.85 \\\\\n",
      "3 &  76.35 &  76.35 &  76.35 &  83.508670 &  76.35 \\\\\n",
      "\\bottomrule\n",
      "\\end{tabular}\n",
      "\\begin{tabular}{lrrrrr}\n",
      "\\toprule\n",
      "{} &      0 &      1 &      2 &          3 &      4 \\\\\n",
      "\\midrule\n",
      "0 &  80.95 &  80.95 &  80.95 &  85.104486 &  80.95 \\\\\n",
      "1 &  81.55 &  81.55 &  81.55 &  86.272354 &  81.55 \\\\\n",
      "2 &  83.35 &  83.35 &  83.35 &  87.495874 &  83.35 \\\\\n",
      "3 &  82.10 &  82.10 &  82.10 &  88.281279 &  82.10 \\\\\n",
      "\\bottomrule\n",
      "\\end{tabular}\n",
      "\\begin{tabular}{lrrrrr}\n",
      "\\toprule\n",
      "{} &      0 &      1 &      2 &          3 &      4 \\\\\n",
      "\\midrule\n",
      "0 &  86.55 &  86.55 &  86.55 &  93.233593 &  86.55 \\\\\n",
      "1 &  89.20 &  89.20 &  89.20 &  93.565079 &  89.20 \\\\\n",
      "2 &  86.30 &  86.30 &  86.30 &  92.068684 &  86.30 \\\\\n",
      "3 &  89.80 &  89.80 &  89.80 &  94.045851 &  89.80 \\\\\n",
      "\\bottomrule\n",
      "\\end{tabular}\n",
      "\n"
     ]
    }
   ],
   "source": [
    "eff_table_tight = pd.DataFrame(transformToEffCalo())\n",
    "eff_table_medium = pd.DataFrame(transformToEffCalo(eff='medium'))\n",
    "eff_table_loose = pd.DataFrame(transformToEffCalo(eff='loose'))\n",
    "eff_table_veryloose = pd.DataFrame(transformToEffCalo(eff='veryloose'))\n",
    "print eff_table_tight.to_latex(),eff_table_medium.to_latex(),eff_table_loose.to_latex(),eff_table_veryloose.to_latex()"
   ]
  }
 ],
 "metadata": {
  "kernelspec": {
   "display_name": "Python 2",
   "language": "python",
   "name": "python2"
  },
  "language_info": {
   "codemirror_mode": {
    "name": "ipython",
    "version": 2
   },
   "file_extension": ".py",
   "mimetype": "text/x-python",
   "name": "python",
   "nbconvert_exporter": "python",
   "pygments_lexer": "ipython2",
   "version": "2.7.12"
  }
 },
 "nbformat": 4,
 "nbformat_minor": 2
}
