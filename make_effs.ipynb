{
 "cells": [
  {
   "cell_type": "code",
   "execution_count": 1,
   "metadata": {},
   "outputs": [],
   "source": [
    "import numpy as np\n",
    "\n",
    "etBins       = [3, 7, 10, 15]\n",
    "etaBins      = [0, 0.8, 1.37, 1.54, 2.37, 2.47]\n",
    "eta =[0.0, 0.6, 0.8, 1.15, 1.37, 1.52, 1.81, 2.01, 2.37]\n",
    "# eta 0.0, 0.6, 0.8, 1.15, 1.37, 1.52, 1.81, 2.01, 2.37\n",
    "\n",
    "tight20170713 = np.array(\n",
    "\n",
    "    [[0.484,0.492,0.340,0.316,0.272,0.400,0.384,0.234,0.139], # 4 GeV \n",
    "     [0.511,0.579,0.497,0.472,0.391,0.385,0.379,0.304,0.223], # 7 GeV\n",
    "     [0.564,0.631,0.509,0.492,0.416,0.517,0.510,0.384,0.262], # 10 GeV\n",
    "     [0.650,0.642,0.630,0.605,0.584,0.607,0.570,0.524,0.431]] # 15 GeV\n",
    "\n",
    "    )*100.0 \n",
    "\n",
    "medium20170713 = np.array( \n",
    "\n",
    "    [[0.677,0.644,0.532,0.497,0.273,0.539,0.522,0.436,0.324], # 4 GeV \n",
    "     [0.690,0.707,0.685,0.649,0.287,0.571,0.553,0.467,0.387], # 7 GeV\n",
    "     [0.731,0.758,0.666,0.632,0.419,0.641,0.633,0.567,0.479], # 10 GeV\n",
    "     [0.765,0.754,0.722,0.621,0.637,0.714,0.654,0.642,0.527]] # 15 GeV\n",
    "\n",
    "     )*100.0\n",
    "\n",
    "loose20170713 = np.array(\n",
    "    \n",
    "    [[0.817,0.824,0.791,0.765,0.556,0.718,0.699,0.690,0.619], # 4 GeV \n",
    "     [0.819,0.786,0.773,0.747,0.440,0.748,0.729,0.703,0.631], # 7 GeV\n",
    "     [0.823,0.850,0.767,0.741,0.512,0.767,0.748,0.736,0.667], # 10 GeV\n",
    "     [0.846,0.852,0.779,0.768,0.702,0.784,0.775,0.743,0.642]] # 15 GeV\n",
    "\n",
    "    )*100.0\n",
    "\n",
    "veryloose20170713 = np.array(\n",
    "    \n",
    "    [[0.916,0.893,0.900,0.894,0.789,0.885,0.876,0.839,0.731], # 4 GeV \n",
    "     [0.923,0.920,0.922,0.916,0.638,0.876,0.867,0.870,0.784], # 7 GeV\n",
    "     [0.908,0.935,0.882,0.875,0.696,0.866,0.857,0.809,0.726], # 10 GeV\n",
    "     [0.948,0.920,0.922,0.885,0.789,0.880,0.885,0.879,0.796]] # 15 GeV\n",
    "\n",
    "    )*100.0\n",
    "\n"
   ]
  },
  {
   "cell_type": "code",
   "execution_count": 2,
   "metadata": {},
   "outputs": [],
   "source": [
    "def mergeEffTable(eff = 'tight'):\n",
    "    if eff == 'tight':\n",
    "        val = tight20170713\n",
    "    elif eff == 'medium':\n",
    "        val = medium20170713\n",
    "    elif eff == 'loose':\n",
    "        val = loose20170713\n",
    "    elif eff == 'veryloose':\n",
    "        val = veryloose20170713\n",
    "  \n",
    "    shorterEtaEffTable = np.zeros(shape=(len(etBins),len(etaBins)))\n",
    "    for eta_index in range(len(etaBins)):\n",
    "        for et_index in range(len(etBins)):\n",
    "            if eta_index == 0:\n",
    "                # merge 0 -> .6 -> .8\n",
    "                shorterEtaEffTable[et_index, eta_index] = (val[et_index, 0]*.6 + val[et_index, 1]*.2) / .8\n",
    "            if eta_index == 1:\n",
    "                # merge 1.15 -> 1.37 -> 1.52\n",
    "                shorterEtaEffTable[et_index, eta_index] = (val[et_index, 2]*.22 + val[et_index, 3]*.15) / .37\n",
    "            if eta_index == 2:\n",
    "                # 1.37 -> 1.52\n",
    "                shorterEtaEffTable[et_index, eta_index] = val[et_index, 4]\n",
    "            if eta_index == 3:\n",
    "                # merge 1.52 -> 1.8 -> 2.47\n",
    "                shorterEtaEffTable[et_index,eta_index] = (val[et_index, 5]*.29 + val[et_index, 6]*.2 + val[et_index, 7]*.46) / .95\n",
    "            else:\n",
    "                shorterEtaEffTable[et_index,eta_index] = val[et_index,8]\n",
    "    return shorterEtaEffTable"
   ]
  },
  {
   "cell_type": "code",
   "execution_count": 3,
   "metadata": {},
   "outputs": [],
   "source": [
    "# eta 0.0, 0.6, 0.8, 1.15, 1.37, 1.52, 1.81, 2.01, 2.37"
   ]
  },
  {
   "cell_type": "code",
   "execution_count": 4,
   "metadata": {},
   "outputs": [
    {
     "name": "stdout",
     "output_type": "stream",
     "text": [
      "[[ 13.9         13.9         13.9         31.62526316  13.9         13.9       ]\n",
      " [ 22.3         22.3         22.3         34.45157895  22.3         22.3       ]\n",
      " [ 26.2         26.2         26.2         45.11263158  26.2         26.2       ]\n",
      " [ 43.1         43.1         43.1         55.90210526  43.1         43.1       ]]\n"
     ]
    }
   ],
   "source": [
    "print(mergeEffTable())"
   ]
  },
  {
   "cell_type": "code",
   "execution_count": 15,
   "metadata": {},
   "outputs": [],
   "source": [
    "def transformToEffCalo (eff = 'tight'):   \n",
    "\n",
    "    if eff == 'tight':\n",
    "        val = mergeEffTable(eff)\n",
    "        \n",
    "    elif eff == 'medium':\n",
    "        val = mergeEffTable(eff)\n",
    "        \n",
    "    elif eff == 'loose':\n",
    "        val = mergeEffTable(eff)\n",
    "        \n",
    "    elif eff == 'veryloose':\n",
    "        val = mergeEffTable(eff)\n",
    "\n",
    "    return val + (np.ones_like(val)*100 - val)*.5"
   ]
  },
  {
   "cell_type": "code",
   "execution_count": 16,
   "metadata": {},
   "outputs": [
    {
     "name": "stdout",
     "output_type": "stream",
     "text": [
      "[[ 56.95        56.95        56.95        65.81263158  56.95        56.95      ]\n",
      " [ 61.15        61.15        61.15        67.22578947  61.15        61.15      ]\n",
      " [ 63.1         63.1         63.1         72.55631579  63.1         63.1       ]\n",
      " [ 71.55        71.55        71.55        77.95105263  71.55        71.55      ]]\n"
     ]
    }
   ],
   "source": [
    "print(transformToEffCalo())"
   ]
  },
  {
   "cell_type": "code",
   "execution_count": null,
   "metadata": {},
   "outputs": [],
   "source": []
  }
 ],
 "metadata": {
  "kernelspec": {
   "display_name": "Python 2",
   "language": "python",
   "name": "python2"
  },
  "language_info": {
   "codemirror_mode": {
    "name": "ipython",
    "version": 2
   },
   "file_extension": ".py",
   "mimetype": "text/x-python",
   "name": "python",
   "nbconvert_exporter": "python",
   "pygments_lexer": "ipython2",
   "version": "2.7.12"
  }
 },
 "nbformat": 4,
 "nbformat_minor": 2
}
