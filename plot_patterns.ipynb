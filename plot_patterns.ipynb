{
 "cells": [
  {
   "cell_type": "code",
   "execution_count": 3,
   "metadata": {
    "collapsed": true
   },
   "outputs": [],
   "source": [
    "import numpy as np\n",
    "import matplotlib.pyplot as plt\n",
    "\n",
    "data = np.load('sample.Jpsi.20172911.npz')"
   ]
  },
  {
   "cell_type": "code",
   "execution_count": 7,
   "metadata": {
    "collapsed": false
   },
   "outputs": [
    {
     "data": {
      "text/plain": [
       "['backgroundEt_etBin_0_etaBin_3',\n",
       " 'signalEfficiencies',\n",
       " 'backgroundEt_etBin_0_etaBin_1',\n",
       " 'backgroundEt_etBin_0_etaBin_0',\n",
       " 'signalPatterns_etBin_0_etaBin_3',\n",
       " 'signalPatterns_etBin_0_etaBin_2',\n",
       " 'signalPatterns_etBin_0_etaBin_1',\n",
       " 'signalPatterns_etBin_0_etaBin_0',\n",
       " 'signalEt_etBin_2_etaBin_4',\n",
       " 'signalEt_etBin_2_etaBin_1',\n",
       " 'signalEt_etBin_2_etaBin_0',\n",
       " 'signalEt_etBin_2_etaBin_3',\n",
       " 'signalEt_etBin_2_etaBin_2',\n",
       " 'signalPileUp_etBin_2_etaBin_3',\n",
       " 'etBins',\n",
       " 'signalEta_etBin_2_etaBin_3',\n",
       " 'signalEta_etBin_2_etaBin_2',\n",
       " 'signalEta_etBin_2_etaBin_1',\n",
       " 'signalEta_etBin_2_etaBin_0',\n",
       " 'backgroundEt_etBin_0_etaBin_2',\n",
       " 'backgroundEta_etBin_0_etaBin_1',\n",
       " 'backgroundEta_etBin_0_etaBin_0',\n",
       " 'backgroundEta_etBin_0_etaBin_3',\n",
       " 'signalPatterns_etBin_0_etaBin_4',\n",
       " 'backgroundEta_etBin_0_etaBin_4',\n",
       " 'signalPileUp_etBin_1_etaBin_0',\n",
       " 'signalPileUp_etBin_1_etaBin_1',\n",
       " 'signalPileUp_etBin_1_etaBin_2',\n",
       " 'signalPileUp_etBin_1_etaBin_3',\n",
       " 'signalEta_etBin_1_etaBin_2',\n",
       " 'signalEta_etBin_1_etaBin_3',\n",
       " 'signalEta_etBin_1_etaBin_0',\n",
       " 'signalEta_etBin_1_etaBin_1',\n",
       " 'signalEta_etBin_0_etaBin_4',\n",
       " 'backgroundEt_etBin_2_etaBin_2',\n",
       " 'signalEta_etBin_0_etaBin_1',\n",
       " 'signalEta_etBin_0_etaBin_0',\n",
       " 'signalEta_etBin_0_etaBin_3',\n",
       " 'signalEta_etBin_0_etaBin_2',\n",
       " 'backgroundEt_etBin_0_etaBin_4',\n",
       " 'backgroundEta_etBin_2_etaBin_2',\n",
       " 'backgroundPatterns_etBin_0_etaBin_3',\n",
       " 'backgroundPatterns_etBin_0_etaBin_2',\n",
       " 'backgroundPatterns_etBin_0_etaBin_1',\n",
       " 'backgroundPatterns_etBin_0_etaBin_0',\n",
       " 'backgroundPatterns_etBin_0_etaBin_4',\n",
       " 'signalPileUp_etBin_2_etaBin_4',\n",
       " 'signalPileUp_etBin_2_etaBin_1',\n",
       " 'signalPileUp_etBin_2_etaBin_0',\n",
       " 'TuningTools__version__',\n",
       " 'signalPileUp_etBin_2_etaBin_2',\n",
       " 'signalPatterns_etBin_2_etaBin_4',\n",
       " 'signalPatterns_etBin_2_etaBin_1',\n",
       " 'signalPatterns_etBin_2_etaBin_0',\n",
       " 'signalPatterns_etBin_2_etaBin_3',\n",
       " 'RingerCore__version__',\n",
       " 'isEtDependent',\n",
       " 'operation',\n",
       " 'backgroundPileUp_etBin_1_etaBin_4',\n",
       " 'backgroundPileUp_etBin_1_etaBin_0',\n",
       " 'backgroundPileUp_etBin_1_etaBin_1',\n",
       " 'backgroundPileUp_etBin_1_etaBin_2',\n",
       " 'backgroundPileUp_etBin_1_etaBin_3',\n",
       " 'etaBins',\n",
       " 'backgroundPileUp_etBin_2_etaBin_1',\n",
       " 'backgroundPileUp_etBin_2_etaBin_0',\n",
       " 'backgroundPileUp_etBin_2_etaBin_3',\n",
       " 'backgroundPileUp_etBin_2_etaBin_2',\n",
       " 'backgroundPileUp_etBin_2_etaBin_4',\n",
       " 'backgroundEfficiencies',\n",
       " 'signalEt_etBin_1_etaBin_0',\n",
       " 'signalEt_etBin_1_etaBin_1',\n",
       " 'signalEt_etBin_1_etaBin_2',\n",
       " 'signalEt_etBin_1_etaBin_3',\n",
       " 'signalEt_etBin_1_etaBin_4',\n",
       " 'signalPileUp_etBin_0_etaBin_4',\n",
       " 'signalPileUp_etBin_0_etaBin_3',\n",
       " 'signalPileUp_etBin_0_etaBin_2',\n",
       " 'signalPileUp_etBin_0_etaBin_1',\n",
       " 'signalPileUp_etBin_0_etaBin_0',\n",
       " 'backgroundEta_etBin_1_etaBin_2',\n",
       " 'backgroundPatterns_etBin_1_etaBin_1',\n",
       " 'backgroundPatterns_etBin_1_etaBin_2',\n",
       " 'backgroundEta_etBin_1_etaBin_1',\n",
       " 'signalEt_etBin_0_etaBin_3',\n",
       " 'signalEt_etBin_0_etaBin_2',\n",
       " 'signalEt_etBin_0_etaBin_1',\n",
       " 'signalEt_etBin_0_etaBin_0',\n",
       " '_label',\n",
       " 'signalEt_etBin_0_etaBin_4',\n",
       " 'backgroundCrossEfficiencies',\n",
       " 'isEtaDependent',\n",
       " 'signalCrossEfficiencies',\n",
       " 'signalPatterns_etBin_2_etaBin_2',\n",
       " 'class',\n",
       " 'backgroundPileUp_etBin_0_etaBin_3',\n",
       " 'backgroundPileUp_etBin_0_etaBin_2',\n",
       " 'backgroundPileUp_etBin_0_etaBin_1',\n",
       " 'backgroundPileUp_etBin_0_etaBin_0',\n",
       " 'backgroundPileUp_etBin_0_etaBin_4',\n",
       " 'signalEta_etBin_2_etaBin_4',\n",
       " 'nEtaBins',\n",
       " '__module',\n",
       " 'backgroundEt_etBin_2_etaBin_1',\n",
       " 'backgroundEt_etBin_2_etaBin_0',\n",
       " 'backgroundEt_etBin_2_etaBin_3',\n",
       " 'backgroundEta_etBin_2_etaBin_4',\n",
       " 'backgroundEta_etBin_2_etaBin_3',\n",
       " 'backgroundEt_etBin_2_etaBin_4',\n",
       " 'backgroundEta_etBin_2_etaBin_1',\n",
       " 'backgroundEta_etBin_2_etaBin_0',\n",
       " 'backgroundEt_etBin_1_etaBin_4',\n",
       " 'backgroundEt_etBin_1_etaBin_0',\n",
       " 'backgroundEt_etBin_1_etaBin_1',\n",
       " 'backgroundEt_etBin_1_etaBin_2',\n",
       " 'backgroundEt_etBin_1_etaBin_3',\n",
       " 'signalPatterns_etBin_1_etaBin_4',\n",
       " 'signalPatterns_etBin_1_etaBin_0',\n",
       " 'signalPatterns_etBin_1_etaBin_1',\n",
       " 'signalPatterns_etBin_1_etaBin_2',\n",
       " 'signalPatterns_etBin_1_etaBin_3',\n",
       " 'backgroundEta_etBin_0_etaBin_2',\n",
       " '__version',\n",
       " 'Project__version__',\n",
       " 'signalEta_etBin_1_etaBin_4',\n",
       " 'signalPileUp_etBin_1_etaBin_4',\n",
       " 'backgroundPatterns_etBin_1_etaBin_0',\n",
       " 'backgroundEta_etBin_1_etaBin_3',\n",
       " 'nEtBins',\n",
       " 'backgroundEta_etBin_1_etaBin_0',\n",
       " 'backgroundPatterns_etBin_1_etaBin_3',\n",
       " 'backgroundPatterns_etBin_2_etaBin_1',\n",
       " 'backgroundPatterns_etBin_2_etaBin_0',\n",
       " 'backgroundPatterns_etBin_2_etaBin_3',\n",
       " 'backgroundPatterns_etBin_2_etaBin_2',\n",
       " 'backgroundPatterns_etBin_2_etaBin_4',\n",
       " 'backgroundEta_etBin_1_etaBin_4',\n",
       " '_collectGraphs',\n",
       " 'backgroundPatterns_etBin_1_etaBin_4']"
      ]
     },
     "execution_count": 7,
     "metadata": {},
     "output_type": "execute_result"
    }
   ],
   "source": [
    "data.keys()"
   ]
  },
  {
   "cell_type": "code",
   "execution_count": 12,
   "metadata": {
    "collapsed": false
   },
   "outputs": [
    {
     "data": {
      "text/plain": [
       "(6650, 100)"
      ]
     },
     "execution_count": 12,
     "metadata": {},
     "output_type": "execute_result"
    }
   ],
   "source": [
    "data['signalPatterns_etBin_2_etaBin_0'].shape"
   ]
  },
  {
   "cell_type": "code",
   "execution_count": 16,
   "metadata": {
    "collapsed": false
   },
   "outputs": [
    {
     "data": {
      "image/png": "[encoded data removed]",
      "text/plain": [
       "<matplotlib.figure.Figure at 0x7f6007340f50>"
      ]
     },
     "metadata": {},
     "output_type": "display_data"
    }
   ],
   "source": [
    "plt.plot(np.arange(100), np.mean(data['signalPatterns_etBin_2_etaBin_0'], axis=0))\n",
    "plt.plot(np.arange(100), np.mean(data['backgroundPatterns_etBin_2_etaBin_0'], axis=0), color = 'r')\n",
    "plt.show()\n"
   ]
  }
 ],
 "metadata": {
  "kernelspec": {
   "display_name": "Python 2",
   "language": "python",
   "name": "python2"
  },
  "language_info": {
   "codemirror_mode": {
    "name": "ipython",
    "version": 2
   },
   "file_extension": ".py",
   "mimetype": "text/x-python",
   "name": "python",
   "nbconvert_exporter": "python",
   "pygments_lexer": "ipython2",
   "version": "2.7.13"
  }
 },
 "nbformat": 4,
 "nbformat_minor": 1
}
